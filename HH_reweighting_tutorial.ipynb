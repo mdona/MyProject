{
  "nbformat": 4,
  "nbformat_minor": 0,
  "metadata": {
    "colab": {
      "provenance": [],
      "include_colab_link": true
    },
    "kernelspec": {
      "name": "python3",
      "display_name": "Python 3"
    },
    "language_info": {
      "name": "python"
    }
  },
  "cells": [
    {
      "cell_type": "markdown",
      "metadata": {
        "id": "view-in-github",
        "colab_type": "text"
      },
      "source": [
        "<a href=\"https://colab.research.google.com/github/mdona/MyProject/blob/master/HH_reweighting_tutorial.ipynb\" target=\"_parent\"><img src=\"https://colab.research.google.com/assets/colab-badge.svg\" alt=\"Open In Colab\"/></a>"
      ]
    },
    {
      "cell_type": "markdown",
      "source": [
        "# Download and setup"
      ],
      "metadata": {
        "id": "D6tsVVyv0wcv"
      }
    },
    {
      "cell_type": "markdown",
      "source": [
        "First we clone the repository"
      ],
      "metadata": {
        "id": "Cknwpi3SmYbx"
      }
    },
    {
      "cell_type": "code",
      "execution_count": null,
      "metadata": {
        "id": "EL_7MxOqlS1Z",
        "colab": {
          "base_uri": "https://localhost:8080/"
        },
        "outputId": "c38d1237-3dfb-4244-a57d-efe66645de08"
      },
      "outputs": [
        {
          "output_type": "stream",
          "name": "stdout",
          "text": [
            "Cloning into 'HHReweighter'...\n",
            "remote: Enumerating objects: 187, done.\u001b[K\n",
            "remote: Counting objects: 100% (98/98), done.\u001b[K\n",
            "remote: Compressing objects: 100% (93/93), done.\u001b[K\n",
            "remote: Total 187 (delta 44), reused 0 (delta 0), pack-reused 89 (from 1)\u001b[K\n",
            "Receiving objects: 100% (187/187), 108.88 MiB | 36.45 MiB/s, done.\n",
            "Resolving deltas: 100% (77/77), done.\n"
          ]
        }
      ],
      "source": [
        "!git clone https://gitlab.com/danielwinterbottom/HHReweighter.git"
      ]
    },
    {
      "cell_type": "code",
      "source": [
        "%cd HHReweighter"
      ],
      "metadata": {
        "id": "sk6o7YkvlTx3",
        "colab": {
          "base_uri": "https://localhost:8080/"
        },
        "outputId": "c9857ab4-1e59-4959-ca4f-f650e1db4878"
      },
      "execution_count": null,
      "outputs": [
        {
          "output_type": "stream",
          "name": "stdout",
          "text": [
            "/content/HHReweighter\n"
          ]
        }
      ]
    },
    {
      "cell_type": "markdown",
      "source": [
        "The matrix elements are computed using Madgraph and the relevant code is stored as tarballs for three different COM energies (12, 13.6, 14 TeV).\n",
        "We need to extract the tarball for the energy we are interested in.\n",
        "In today's examples we will use 13 TeV"
      ],
      "metadata": {
        "id": "XICUYhKAmiRa"
      }
    },
    {
      "cell_type": "code",
      "source": [
        "!tar -xvf rwgt_13TeV.tar.gz"
      ],
      "metadata": {
        "id": "VRvZdxC0lcnT",
        "colab": {
          "base_uri": "https://localhost:8080/"
        },
        "outputId": "2e0630b2-2632-4447-9ff8-ddeb01a0ff5c"
      },
      "execution_count": null,
      "outputs": [
        {
          "output_type": "stream",
          "name": "stdout",
          "text": [
            "rwgt_13TeV/\n",
            "rwgt_13TeV/rw_me/\n",
            "rwgt_13TeV/rw_me/Source/\n",
            "rwgt_13TeV/rw_me/Source/MODEL/\n",
            "rwgt_13TeV/rw_me/Source/MODEL/couplings.o\n",
            "rwgt_13TeV/rw_me/Source/MODEL/param_read.inc\n",
            "rwgt_13TeV/rw_me/Source/MODEL/input.inc\n",
            "rwgt_13TeV/rw_me/Source/MODEL/mp_input.inc\n",
            "rwgt_13TeV/rw_me/Source/MODEL/intparam_definition.inc\n",
            "rwgt_13TeV/rw_me/Source/MODEL/mp_intparam_definition.inc\n",
            "rwgt_13TeV/rw_me/Source/MODEL/actualize_mp_ext_params.inc\n",
            "rwgt_13TeV/rw_me/Source/MODEL/coupl.inc\n",
            "rwgt_13TeV/rw_me/Source/MODEL/mp_coupl.inc\n",
            "rwgt_13TeV/rw_me/Source/MODEL/mp_coupl_same_name.inc\n",
            "rwgt_13TeV/rw_me/Source/MODEL/coupl_write.inc\n",
            "rwgt_13TeV/rw_me/Source/MODEL/couplings.f\n",
            "rwgt_13TeV/rw_me/Source/MODEL/couplings1.f\n",
            "rwgt_13TeV/rw_me/Source/MODEL/couplings2.f\n",
            "rwgt_13TeV/rw_me/Source/MODEL/mp_couplings2.f\n",
            "rwgt_13TeV/rw_me/Source/MODEL/makeinc.inc\n",
            "rwgt_13TeV/rw_me/Source/MODEL/param_write.inc\n",
            "rwgt_13TeV/rw_me/Source/MODEL/model_functions.inc\n",
            "rwgt_13TeV/rw_me/Source/MODEL/model_functions.f\n",
            "rwgt_13TeV/rw_me/Source/MODEL/lha_read.o\n",
            "rwgt_13TeV/rw_me/Source/MODEL/param_card_rule.dat\n",
            "rwgt_13TeV/rw_me/Source/MODEL/formats.inc\n",
            "rwgt_13TeV/rw_me/Source/MODEL/printout.f\n",
            "rwgt_13TeV/rw_me/Source/MODEL/rw_para.f\n",
            "rwgt_13TeV/rw_me/Source/MODEL/testprog.f\n",
            "rwgt_13TeV/rw_me/Source/MODEL/lha_read.f\n",
            "rwgt_13TeV/rw_me/Source/MODEL/makefile\n",
            "rwgt_13TeV/rw_me/Source/MODEL/printout.o\n",
            "rwgt_13TeV/rw_me/Source/MODEL/rw_para.o\n",
            "rwgt_13TeV/rw_me/Source/MODEL/model_functions.o\n",
            "rwgt_13TeV/rw_me/Source/MODEL/couplings1.o\n",
            "rwgt_13TeV/rw_me/Source/MODEL/couplings2.o\n",
            "rwgt_13TeV/rw_me/Source/MODEL/mp_couplings2.o\n",
            "rwgt_13TeV/rw_me/Source/DHELAS/\n",
            "rwgt_13TeV/rw_me/Source/DHELAS/coef_specs.inc\n",
            "rwgt_13TeV/rw_me/Source/DHELAS/FFV1L2_1.f\n",
            "rwgt_13TeV/rw_me/Source/DHELAS/MP_FFV1L2_1.f\n",
            "rwgt_13TeV/rw_me/Source/DHELAS/FFV1L1_2.f\n",
            "rwgt_13TeV/rw_me/Source/DHELAS/MP_FFV1L1_2.f\n",
            "rwgt_13TeV/rw_me/Source/DHELAS/VVS1_0.f\n",
            "rwgt_13TeV/rw_me/Source/DHELAS/MP_VVS1_0.f\n",
            "rwgt_13TeV/rw_me/Source/DHELAS/SSS1_1.f\n",
            "rwgt_13TeV/rw_me/Source/DHELAS/MP_SSS1_1.f\n",
            "rwgt_13TeV/rw_me/Source/DHELAS/R2_GGHH_0.f\n",
            "rwgt_13TeV/rw_me/Source/DHELAS/MP_R2_GGHH_0.f\n",
            "rwgt_13TeV/rw_me/Source/DHELAS/FFS1L2_1.f\n",
            "rwgt_13TeV/rw_me/Source/DHELAS/MP_FFS1L2_1.f\n",
            "rwgt_13TeV/rw_me/Source/DHELAS/FFS1L1_2.f\n",
            "rwgt_13TeV/rw_me/Source/DHELAS/MP_FFS1L1_2.f\n",
            "rwgt_13TeV/rw_me/Source/DHELAS/makefile\n",
            "rwgt_13TeV/rw_me/Source/DHELAS/aloha_functions.f\n",
            "rwgt_13TeV/rw_me/Source/DHELAS/aloha_file.inc\n",
            "rwgt_13TeV/rw_me/Source/DHELAS/aloha_functions.o\n",
            "rwgt_13TeV/rw_me/Source/DHELAS/FFV1L2_1.o\n",
            "rwgt_13TeV/rw_me/Source/DHELAS/MP_FFV1L2_1.o\n",
            "rwgt_13TeV/rw_me/Source/DHELAS/FFV1L1_2.o\n",
            "rwgt_13TeV/rw_me/Source/DHELAS/MP_FFV1L1_2.o\n",
            "rwgt_13TeV/rw_me/Source/DHELAS/VVS1_0.o\n",
            "rwgt_13TeV/rw_me/Source/DHELAS/MP_VVS1_0.o\n",
            "rwgt_13TeV/rw_me/Source/DHELAS/SSS1_1.o\n",
            "rwgt_13TeV/rw_me/Source/DHELAS/MP_SSS1_1.o\n",
            "rwgt_13TeV/rw_me/Source/DHELAS/R2_GGHH_0.o\n",
            "rwgt_13TeV/rw_me/Source/DHELAS/MP_R2_GGHH_0.o\n",
            "rwgt_13TeV/rw_me/Source/DHELAS/FFS1L2_1.o\n",
            "rwgt_13TeV/rw_me/Source/DHELAS/MP_FFS1L2_1.o\n",
            "rwgt_13TeV/rw_me/Source/DHELAS/FFS1L1_2.o\n",
            "rwgt_13TeV/rw_me/Source/DHELAS/MP_FFS1L1_2.o\n",
            "rwgt_13TeV/rw_me/Source/make_opts\n",
            "rwgt_13TeV/rw_me/Source/makefile\n",
            "rwgt_13TeV/rw_me/Source/coupl.inc\n",
            "rwgt_13TeV/rw_me/SubProcesses/\n",
            "rwgt_13TeV/rw_me/SubProcesses/makefileP\n",
            "rwgt_13TeV/rw_me/SubProcesses/cts_mprec.h\n",
            "rwgt_13TeV/rw_me/SubProcesses/MadLoopParamReader.f\n",
            "rwgt_13TeV/rw_me/SubProcesses/MadLoopParams.inc\n",
            "rwgt_13TeV/rw_me/SubProcesses/MadLoopParams.dat\n",
            "rwgt_13TeV/rw_me/SubProcesses/makefile\n",
            "rwgt_13TeV/rw_me/SubProcesses/MadLoop_makefile_definitions\n",
            "rwgt_13TeV/rw_me/SubProcesses/MadLoopCommons.f\n",
            "rwgt_13TeV/rw_me/SubProcesses/MadLoop5_resources/\n",
            "rwgt_13TeV/rw_me/SubProcesses/MadLoop5_resources/MadLoopParams.dat\n",
            "rwgt_13TeV/rw_me/SubProcesses/MadLoop5_resources/param_card.dat\n",
            "rwgt_13TeV/rw_me/SubProcesses/MadLoop5_resources/ident_card.dat\n",
            "rwgt_13TeV/rw_me/SubProcesses/MadLoop5_resources/ML5_0_ColorNumFactors.dat\n",
            "rwgt_13TeV/rw_me/SubProcesses/MadLoop5_resources/ML5_0_ColorDenomFactors.dat\n",
            "rwgt_13TeV/rw_me/SubProcesses/MadLoop5_resources/ML5_0_HelConfigs.dat\n",
            "rwgt_13TeV/rw_me/SubProcesses/MadLoop5_resources/ML5_0_LoopColorFlowCoefs.dat\n",
            "rwgt_13TeV/rw_me/SubProcesses/MadLoop5_resources/ML5_0_LoopColorFlowMatrix.dat\n",
            "rwgt_13TeV/rw_me/SubProcesses/cts_mpc.h\n",
            "rwgt_13TeV/rw_me/SubProcesses/P0_gg_hh_no_iota0/\n",
            "rwgt_13TeV/rw_me/SubProcesses/P0_gg_hh_no_iota0/unique_id.inc\n",
            "rwgt_13TeV/rw_me/SubProcesses/P0_gg_hh_no_iota0/py.py\n",
            "rwgt_13TeV/rw_me/SubProcesses/P0_gg_hh_no_iota0/proc_prefix.txt\n",
            "rwgt_13TeV/rw_me/SubProcesses/P0_gg_hh_no_iota0/loop_matrix.f\n",
            "rwgt_13TeV/rw_me/SubProcesses/P0_gg_hh_no_iota0/nsquaredSO.inc\n",
            "rwgt_13TeV/rw_me/SubProcesses/P0_gg_hh_no_iota0/helas_calls_ampb_1.f\n",
            "rwgt_13TeV/rw_me/SubProcesses/P0_gg_hh_no_iota0/coef_construction_1.f\n",
            "rwgt_13TeV/rw_me/SubProcesses/P0_gg_hh_no_iota0/loop_CT_calls_1.f\n",
            "rwgt_13TeV/rw_me/SubProcesses/P0_gg_hh_no_iota0/check_sa.f\n",
            "rwgt_13TeV/rw_me/SubProcesses/P0_gg_hh_no_iota0/f2py_wrapper.f\n",
            "rwgt_13TeV/rw_me/SubProcesses/P0_gg_hh_no_iota0/check_sa.py\n",
            "rwgt_13TeV/rw_me/SubProcesses/P0_gg_hh_no_iota0/polynomial.f\n",
            "rwgt_13TeV/rw_me/SubProcesses/P0_gg_hh_no_iota0/loop_max_coefs.inc\n",
            "rwgt_13TeV/rw_me/SubProcesses/P0_gg_hh_no_iota0/improve_ps.f\n",
            "rwgt_13TeV/rw_me/SubProcesses/P0_gg_hh_no_iota0/CT_interface.f\n",
            "rwgt_13TeV/rw_me/SubProcesses/P0_gg_hh_no_iota0/TIR_interface.f\n",
            "rwgt_13TeV/rw_me/SubProcesses/P0_gg_hh_no_iota0/COLLIER_interface.f\n",
            "rwgt_13TeV/rw_me/SubProcesses/P0_gg_hh_no_iota0/loop_num.f\n",
            "rwgt_13TeV/rw_me/SubProcesses/P0_gg_hh_no_iota0/mp_compute_loop_coefs.f\n",
            "rwgt_13TeV/rw_me/SubProcesses/P0_gg_hh_no_iota0/mp_helas_calls_ampb_1.f\n",
            "rwgt_13TeV/rw_me/SubProcesses/P0_gg_hh_no_iota0/mp_coef_construction_1.f\n",
            "rwgt_13TeV/rw_me/SubProcesses/P0_gg_hh_no_iota0/compute_color_flows.f\n",
            "rwgt_13TeV/rw_me/SubProcesses/P0_gg_hh_no_iota0/nexternal.inc\n",
            "rwgt_13TeV/rw_me/SubProcesses/P0_gg_hh_no_iota0/process_info.inc\n",
            "rwgt_13TeV/rw_me/SubProcesses/P0_gg_hh_no_iota0/tir_cache_size.inc\n",
            "rwgt_13TeV/rw_me/SubProcesses/P0_gg_hh_no_iota0/pmass.inc\n",
            "rwgt_13TeV/rw_me/SubProcesses/P0_gg_hh_no_iota0/ngraphs.inc\n",
            "rwgt_13TeV/rw_me/SubProcesses/P0_gg_hh_no_iota0/loop_matrix.ps\n",
            "rwgt_13TeV/rw_me/SubProcesses/P0_gg_hh_no_iota0/coupl.inc\n",
            "rwgt_13TeV/rw_me/SubProcesses/P0_gg_hh_no_iota0/cts_mprec.h\n",
            "rwgt_13TeV/rw_me/SubProcesses/P0_gg_hh_no_iota0/cts_mpc.h\n",
            "rwgt_13TeV/rw_me/SubProcesses/P0_gg_hh_no_iota0/mp_coupl.inc\n",
            "rwgt_13TeV/rw_me/SubProcesses/P0_gg_hh_no_iota0/mp_coupl_same_name.inc\n",
            "rwgt_13TeV/rw_me/SubProcesses/P0_gg_hh_no_iota0/MadLoopParamReader.f\n",
            "rwgt_13TeV/rw_me/SubProcesses/P0_gg_hh_no_iota0/MadLoopCommons.f\n",
            "rwgt_13TeV/rw_me/SubProcesses/P0_gg_hh_no_iota0/MadLoopParams.inc\n",
            "rwgt_13TeV/rw_me/SubProcesses/P0_gg_hh_no_iota0/global_specs.inc\n",
            "rwgt_13TeV/rw_me/SubProcesses/P0_gg_hh_no_iota0/makefile\n",
            "rwgt_13TeV/rw_me/SubProcesses/P0_gg_hh_no_iota0/mpmodule.mod\n",
            "rwgt_13TeV/rw_me/SubProcesses/P0_gg_hh_no_iota0/MadLoop5_resources\n",
            "rwgt_13TeV/rw_me/SubProcesses/P0_gg_hh_no_iota0/coef_specs.inc\n",
            "rwgt_13TeV/rw_me/SubProcesses/P0_gg_hh_no_iota0/polynomial.o\n",
            "rwgt_13TeV/rw_me/SubProcesses/P0_gg_hh_no_iota0/helas_calls_ampb_1.o\n",
            "rwgt_13TeV/rw_me/SubProcesses/P0_gg_hh_no_iota0/mp_helas_calls_ampb_1.o\n",
            "rwgt_13TeV/rw_me/SubProcesses/P0_gg_hh_no_iota0/loop_CT_calls_1.o\n",
            "rwgt_13TeV/rw_me/SubProcesses/P0_gg_hh_no_iota0/coef_construction_1.o\n",
            "rwgt_13TeV/rw_me/SubProcesses/P0_gg_hh_no_iota0/loop_num.o\n",
            "rwgt_13TeV/rw_me/SubProcesses/P0_gg_hh_no_iota0/improve_ps.o\n",
            "rwgt_13TeV/rw_me/SubProcesses/P0_gg_hh_no_iota0/mp_coef_construction_1.o\n",
            "rwgt_13TeV/rw_me/SubProcesses/P0_gg_hh_no_iota0/compute_color_flows.o\n",
            "rwgt_13TeV/rw_me/SubProcesses/P0_gg_hh_no_iota0/mp_compute_loop_coefs.o\n",
            "rwgt_13TeV/rw_me/SubProcesses/P0_gg_hh_no_iota0/TIR_interface.o\n",
            "rwgt_13TeV/rw_me/SubProcesses/P0_gg_hh_no_iota0/CT_interface.o\n",
            "rwgt_13TeV/rw_me/SubProcesses/P0_gg_hh_no_iota0/COLLIER_interface.o\n",
            "rwgt_13TeV/rw_me/SubProcesses/P0_gg_hh_no_iota0/loop_matrix.o\n",
            "rwgt_13TeV/rw_me/SubProcesses/coupl.inc\n",
            "rwgt_13TeV/rw_me/SubProcesses/mp_coupl.inc\n",
            "rwgt_13TeV/rw_me/SubProcesses/mp_coupl_same_name.inc\n",
            "rwgt_13TeV/rw_me/SubProcesses/__init__.py\n",
            "rwgt_13TeV/rw_me/SubProcesses/all_matrix.f\n",
            "rwgt_13TeV/rw_me/SubProcesses/check_sa.py\n",
            "rwgt_13TeV/rw_me/SubProcesses/global_specs.inc\n",
            "rwgt_13TeV/rw_me/SubProcesses/ml5_0_polynomial_constants.mod\n",
            "rwgt_13TeV/rw_me/SubProcesses/MadLoopCommons.o\n",
            "rwgt_13TeV/rw_me/SubProcesses/MadLoopParamReader.o\n",
            "rwgt_13TeV/rw_me/SubProcesses/allmatrix2py.cpython-39-x86_64-linux-gnu.so\n",
            "rwgt_13TeV/rw_me/SubProcesses/allmatrix3py.cpython-39-x86_64-linux-gnu.so\n",
            "rwgt_13TeV/rw_me/SubProcesses/__pycache__/\n",
            "rwgt_13TeV/rw_me/SubProcesses/__pycache__/__init__.cpython-39.pyc\n",
            "rwgt_13TeV/rw_me/bin/\n",
            "rwgt_13TeV/rw_me/bin/internal/\n",
            "rwgt_13TeV/rw_me/lib/\n",
            "rwgt_13TeV/rw_me/lib/libcts.a\n",
            "rwgt_13TeV/rw_me/lib/mpmodule.mod\n",
            "rwgt_13TeV/rw_me/lib/libiregi.a\n",
            "rwgt_13TeV/rw_me/lib/ninja_include\n",
            "rwgt_13TeV/rw_me/lib/ninja_lib\n",
            "rwgt_13TeV/rw_me/lib/collier_include\n",
            "rwgt_13TeV/rw_me/lib/collier_lib\n",
            "rwgt_13TeV/rw_me/lib/libdhelas.a\n",
            "rwgt_13TeV/rw_me/lib/libmodel.a\n",
            "rwgt_13TeV/rw_me/lib/libMadLoop.a\n",
            "rwgt_13TeV/rw_me/Cards/\n",
            "rwgt_13TeV/rw_me/Cards/MadLoopParams.dat\n",
            "rwgt_13TeV/rw_me/Cards/MadLoopParams_default.dat\n",
            "rwgt_13TeV/rw_me/Cards/ident_card.dat\n",
            "rwgt_13TeV/rw_me/Cards/param_card.dat\n",
            "rwgt_13TeV/rw_me/Cards/param_card_default.dat\n",
            "rwgt_13TeV/rw_me/Cards/proc_card_mg5.dat\n",
            "rwgt_13TeV/rw_me/Cards/run_card_default.dat\n",
            "rwgt_13TeV/rw_me/Cards/run_card.dat\n",
            "rwgt_13TeV/rw_me/TemplateVersion.txt\n",
            "rwgt_13TeV/rw_me/MGMEVersion.txt\n",
            "rwgt_13TeV/rw_me/__init__.py\n",
            "rwgt_13TeV/rw_me/__pycache__/\n",
            "rwgt_13TeV/rw_me/__pycache__/__init__.cpython-39.pyc\n",
            "rwgt_13TeV/rw_me/param.log\n",
            "rwgt_13TeV/rw_me/rwgt.pkl\n"
          ]
        }
      ]
    },
    {
      "cell_type": "markdown",
      "source": [
        "# An example of how to reweight a single event"
      ],
      "metadata": {
        "id": "VgsVSHxa1Am_"
      }
    },
    {
      "cell_type": "markdown",
      "source": [
        "Now we will look at how to compute the weights for different reference samples.\n",
        "Reference sample = the MC you want to reweight.\n",
        "The code supports two options for the reweighting:\n",
        "1. reweight a SM di-Higgs samples\n",
        "2. reweight a H->h125h125 resonant sample"
      ],
      "metadata": {
        "id": "NJ1um6aPm-0p"
      }
    },
    {
      "cell_type": "markdown",
      "source": [
        "First import the reweighting module"
      ],
      "metadata": {
        "id": "FDZ4zRfcniF5"
      }
    },
    {
      "cell_type": "code",
      "source": [
        "from python.reweight import *"
      ],
      "metadata": {
        "id": "HlW4LcZwljea"
      },
      "execution_count": null,
      "outputs": []
    },
    {
      "cell_type": "markdown",
      "source": [
        "First we need to initialize the module.\n",
        "When we initialize the module we need to specify what mass and width points we need to compute weights for.\n",
        "We can do this using a dictionary to specify the mass and relative width (width/mass) points we are interested in."
      ],
      "metadata": {
        "id": "CP6KSipOngOP"
      }
    },
    {
      "cell_type": "code",
      "source": [
        "mass_widths_dict = {\n",
        "  300: [0.01,0.05],\n",
        "  500: [0.02,0.1],\n",
        "  620: [0.007422],\n",
        "  250: [0.01],\n",
        "}"
      ],
      "metadata": {
        "id": "bOC1zWexlyeK"
      },
      "execution_count": null,
      "outputs": []
    },
    {
      "cell_type": "markdown",
      "source": [
        "The dictionary keys correspond to the mass points and the lists are the relative widths.\n",
        "In the example above we are requesting weights to be computed for M=300 GeV with relative widths of 1% and 5%,  M=500 GeV with relative widths of 2% and 10%, and a M=620 GeV point with relative width ~0.7%"
      ],
      "metadata": {
        "id": "MtKONLs-n1lP"
      }
    },
    {
      "cell_type": "markdown",
      "source": [
        "When initializing the reweighting model you also have to specify what reference sample you are reweighting.\n",
        "For reweighting a SM di-Higgs sample (option 1), the module is initialized using:"
      ],
      "metadata": {
        "id": "4MxUNVZSoIVO"
      }
    },
    {
      "cell_type": "code",
      "source": [
        "rw = HHReweight(mass_widths_dict=mass_widths_dict)"
      ],
      "metadata": {
        "id": "HZlVZeCwl0xp",
        "colab": {
          "base_uri": "https://localhost:8080/"
        },
        "outputId": "ded87db2-2583-4af5-d8d7-7731e678b3cc"
      },
      "execution_count": null,
      "outputs": [
        {
          "output_type": "stream",
          "name": "stdout",
          "text": [
            "INFO: Reweighting SM process\n"
          ]
        }
      ]
    },
    {
      "cell_type": "markdown",
      "source": [
        "Now we can compute weights for each event in our sample.\n",
        "To compute the weights the minimum information that needs to be passed to the module is the pdgid and 4-vectors of the two gen-level higgs bosons.\n",
        "The information should be stored in a list like [pdgid, E, px, py, pz]:"
      ],
      "metadata": {
        "id": "wFgXVOM3pC1a"
      }
    },
    {
      "cell_type": "code",
      "source": [
        "higgs_1 = [25, 8.1365468547e+02, -2.5093111382e+01, 1.6194796557e+02, -7.8711634426e+02]\n",
        "higgs_2 = [25, 7.6439513889e+02, 2.5093111382e+01, -1.6194796557e+02, -7.3608295767e+02]\n",
        "\n",
        "parts = [higgs_1,higgs_2]"
      ],
      "metadata": {
        "id": "d_SYefWJo7_N"
      },
      "execution_count": null,
      "outputs": []
    },
    {
      "cell_type": "code",
      "source": [
        "rweights_sm = rw.ReweightEvent(parts)\n",
        "print(rweights_sm)"
      ],
      "metadata": {
        "id": "BIyWzlhipTSW",
        "colab": {
          "base_uri": "https://localhost:8080/"
        },
        "outputId": "4d1a512f-b0b4-4790-8854-0a39aec541de"
      },
      "execution_count": null,
      "outputs": [
        {
          "output_type": "stream",
          "name": "stdout",
          "text": [
            "{'box': 1.9113049495360301, 'schannel_h': 0.15952655200636745, 'box_and_schannel_h_i': -1.0708315015423968, 'schannel_H_Mass_300_RelWidth_0p01': 0.06591135193405485, 'box_and_schannel_H_i_Mass_300_RelWidth_0p01': -0.6866254144208953, 'schannel_H_and_schannel_h_i_Mass_300_RelWidth_0p01': 0.20506862104959805, 'schannel_H_Mass_300_RelWidth_0p05': 0.06571229954377966, 'box_and_schannel_H_i_Mass_300_RelWidth_0p05': -0.6779997320069435, 'schannel_H_and_schannel_h_i_Mass_300_RelWidth_0p05': 0.20444936093073166, 'schannel_H_Mass_500_RelWidth_0p02': 0.06600858198539206, 'box_and_schannel_H_i_Mass_500_RelWidth_0p02': 0.6966155196973769, 'schannel_H_and_schannel_h_i_Mass_500_RelWidth_0p02': -0.20483197003154816, 'schannel_H_Mass_500_RelWidth_0p1': 0.060357315098579854, 'box_and_schannel_H_i_Mass_500_RelWidth_0p1': 0.670409477386852, 'schannel_H_and_schannel_h_i_Mass_500_RelWidth_0p1': -0.18729521832890744, 'schannel_H_Mass_620_RelWidth_0p007422': 0.009209482923509529, 'box_and_schannel_H_i_Mass_620_RelWidth_0p007422': 0.2579948355025542, 'schannel_H_and_schannel_h_i_Mass_620_RelWidth_0p007422': -0.07665237095482155, 'schannel_H_Mass_250_RelWidth_0p01': 0.036530457031172116, 'box_and_schannel_H_i_Mass_250_RelWidth_0p01': -0.5117867914567843, 'schannel_H_and_schannel_h_i_Mass_250_RelWidth_0p01': 0.1526745769288523}\n"
          ]
        }
      ]
    },
    {
      "cell_type": "markdown",
      "source": [
        "We see that several weights are stored in this map.\n",
        "These correspond to individual pieces of the total process.\n",
        "\n",
        "'box': correspond to the box diagram only scenario (SM with lambda=0).\n",
        "\n",
        "![Feynman_nonres_box.png](data:image/png;base64,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)\n",
        "\n",
        "'schannel_h': corresponds to the SM s-channel only diagram.\n",
        "![Feynman_nonres_schan.png](data:image/png;base64,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)\n",
        "\n",
        "\n",
        "'box_and_schannel_h_i': corresponds to the inteference between the 2 SM diagrams"
      ],
      "metadata": {
        "id": "f0-gnDhArjnG"
      }
    },
    {
      "cell_type": "markdown",
      "source": [
        "The weights are computed using SM-like couplings for $\\lambda_{hhh}$ and $y_{t}$, $\\kappa_{\\lambda_{hhh}} = \\kappa_t = 1$ $\\kappa_{t}=y_{t}/y_{t}^{\\text{SM}}=1$ and $\\kappa_{\\lambda_{hhh}} = \\lambda_{hhh} / \\lambda_{\\text{SM}}=1$."
      ],
      "metadata": {
        "id": "O-dyFgXLtTLT"
      }
    },
    {
      "cell_type": "markdown",
      "source": [
        "There are also weights that correspond to the resonant s-channel diagram, for each mass and width requested called e.g \"schannel_H_Mass_300_RelWidth_0p01\"\n",
        "\n",
        "![Feynman_res.png](data:image/png;base64,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)\n"
      ],
      "metadata": {
        "id": "h5fkD3VNzwt3"
      }
    },
    {
      "cell_type": "markdown",
      "source": [
        "And there are also 2 inteference rates per mass and width points:\n",
        "\n",
        "'box_and_schannel_H_i_Mass_300_RelWidth_0p01': which corresponds to the inteference between the resonant diagram and the SM-box diagram\n",
        "\n",
        "'schannel_H_and_schannel_h_i_Mass_300_RelWidth_0p01': which corresponds to the inteference between the resonant diagram and the SM s-channel diagram"
      ],
      "metadata": {
        "id": "mZy75M5d0L84"
      }
    },
    {
      "cell_type": "markdown",
      "source": [
        "The weights are compited for SM-like couplings for the additional H boson.\n",
        "$\\kappa_t^{H} = y_t^H / y_t^{\\text{SM}} =1$ and $\\kappa_{\\lambda_{Hhh}}= \\lambda_{Hhh}/ \\lambda_{\\text{SM}} = 1$"
      ],
      "metadata": {
        "id": "wcHVclaw1OKc"
      }
    },
    {
      "cell_type": "markdown",
      "source": [
        "To reweight a resonant sample (option 2) we use the option ReweightSChan=True.\n",
        "In this case the weights will also depend on the mass and width of the resonant sample we are reweighting, so we need to specify these parameters when we initialize the module using the RefMassRelWidth option.\n",
        "Lets suppose we are reweighting a M=500 GeV sample with a relative width of 1%:\n"
      ],
      "metadata": {
        "id": "e7RYum5zoa_y"
      }
    },
    {
      "cell_type": "code",
      "source": [
        "ref_mass = 500\n",
        "ref_width = 0.02\n",
        "rw = HHReweight(ReweightSChan=True,RefMassRelWidth=(ref_mass,ref_width),mass_widths_dict=mass_widths_dict)"
      ],
      "metadata": {
        "id": "b9HW7Gqql3x1",
        "colab": {
          "base_uri": "https://localhost:8080/"
        },
        "outputId": "95fae467-1fcf-4163-9b44-4dfff32df73c"
      },
      "execution_count": null,
      "outputs": [
        {
          "output_type": "stream",
          "name": "stdout",
          "text": [
            "INFO: Reweighting S-channel process with mass=500 and width=0.02\n"
          ]
        }
      ]
    },
    {
      "cell_type": "code",
      "source": [
        "rweights_res = rw.ReweightEvent(parts)\n",
        "print(rweights_res)"
      ],
      "metadata": {
        "id": "rhuc_bYupi2k",
        "colab": {
          "base_uri": "https://localhost:8080/"
        },
        "outputId": "ca5fffad-8ee6-43a6-aaf4-d45e4de68f77"
      },
      "execution_count": null,
      "outputs": [
        {
          "output_type": "stream",
          "name": "stdout",
          "text": [
            "{'box': 28.95540082892569, 'schannel_h': 2.416754718979894, 'box_and_schannel_h_i': -16.222610292997597, 'schannel_H_Mass_300_RelWidth_0p01': 0.9985270089371303, 'box_and_schannel_H_i_Mass_300_RelWidth_0p01': -10.402062788939295, 'schannel_H_and_schannel_h_i_Mass_300_RelWidth_0p01': 3.1066963549524593, 'schannel_H_Mass_300_RelWidth_0p05': 0.9955114557425585, 'box_and_schannel_H_i_Mass_300_RelWidth_0p05': -10.27138762285467, 'schannel_H_and_schannel_h_i_Mass_300_RelWidth_0p05': 3.0973148457571336, 'schannel_H_Mass_500_RelWidth_0p02': 1.0000000000000002, 'box_and_schannel_H_i_Mass_500_RelWidth_0p02': 10.553408340926648, 'schannel_H_and_schannel_h_i_Mass_500_RelWidth_0p02': -3.1031111996448923, 'schannel_H_Mass_500_RelWidth_0p1': 0.9143858765506757, 'box_and_schannel_H_i_Mass_500_RelWidth_0p1': 10.156398716991317, 'schannel_H_and_schannel_h_i_Mass_500_RelWidth_0p1': -2.8374373861016524, 'schannel_H_Mass_620_RelWidth_0p007422': 0.1395194783240098, 'box_and_schannel_H_i_Mass_620_RelWidth_0p007422': 3.9085044359784824, 'schannel_H_and_schannel_h_i_Mass_620_RelWidth_0p007422': -1.1612485626760625, 'schannel_H_Mass_250_RelWidth_0p01': 0.5534198119762131, 'box_and_schannel_H_i_Mass_250_RelWidth_0p01': -7.753337158038702, 'schannel_H_and_schannel_h_i_Mass_250_RelWidth_0p01': 2.312950412457577}\n"
          ]
        }
      ]
    },
    {
      "cell_type": "markdown",
      "source": [
        "# Reweighting an event sample to the singlet model"
      ],
      "metadata": {
        "id": "o174KlPI8qwF"
      }
    },
    {
      "cell_type": "markdown",
      "source": [
        "We will now reweight a sample of MC events.\n",
        "The sample of MC events were generated with Madgraph at LO and showered using Pythia.\n",
        "The fileformat is .hepmc"
      ],
      "metadata": {
        "id": "IaYiXUATd8lY"
      }
    },
    {
      "cell_type": "markdown",
      "source": [
        "First we install and import packages we will need to read and process the MC files."
      ],
      "metadata": {
        "id": "xIrHzuFefTyK"
      }
    },
    {
      "cell_type": "code",
      "source": [
        "!curl https://cernbox.cern.ch/remote.php/dav/public-files/a75sa83ygIa63mM/hh_mc_6k.tar.gz --output hh_mc_6k.tar.gz\n",
        "!tar -xvf hh_mc_6k.tar.gz"
      ],
      "metadata": {
        "id": "hywcTE2fp9e_",
        "colab": {
          "base_uri": "https://localhost:8080/"
        },
        "outputId": "39e6580a-b3a0-41a9-e66e-6b792f10bdaa"
      },
      "execution_count": null,
      "outputs": [
        {
          "output_type": "stream",
          "name": "stdout",
          "text": [
            "  % Total    % Received % Xferd  Average Speed   Time    Time     Time  Current\n",
            "                                 Dload  Upload   Total   Spent    Left  Speed\n",
            "100 1524M  100 1524M    0     0  16.8M      0  0:01:30  0:01:30 --:--:-- 23.4M\n",
            "events_res_m620_w0p02_6k.hepmc\n",
            "events_singletBM620_6k.hepmc\n",
            "events_sm_6k.hepmc\n"
          ]
        }
      ]
    },
    {
      "cell_type": "code",
      "source": [
        "# can uncomment these lines to download the bigger files (20k events each)\n",
        "#!curl https://cernbox.cern.ch/remote.php/dav/public-files/8Nr1833sXdEQQGU/hh_mc.tar.gz --output hh_mc.tar.gz\n",
        "#!tar -xvf hh_mc.tar.gz"
      ],
      "metadata": {
        "id": "ra9DdzHqzx35"
      },
      "execution_count": null,
      "outputs": []
    },
    {
      "cell_type": "code",
      "source": [
        "!pip install pyhepmc"
      ],
      "metadata": {
        "id": "ujLxP_ZAeLcS",
        "colab": {
          "base_uri": "https://localhost:8080/"
        },
        "outputId": "3e501a51-c9c2-4b18-afb0-e690fd41439a"
      },
      "execution_count": null,
      "outputs": [
        {
          "output_type": "stream",
          "name": "stdout",
          "text": [
            "Collecting pyhepmc\n",
            "  Downloading pyhepmc-2.14.0-cp311-cp311-manylinux_2_17_x86_64.manylinux2014_x86_64.whl.metadata (4.6 kB)\n",
            "Requirement already satisfied: numpy>=1.21 in /usr/local/lib/python3.11/dist-packages (from pyhepmc) (1.26.4)\n",
            "Requirement already satisfied: packaging in /usr/local/lib/python3.11/dist-packages (from pyhepmc) (24.2)\n",
            "Downloading pyhepmc-2.14.0-cp311-cp311-manylinux_2_17_x86_64.manylinux2014_x86_64.whl (644 kB)\n",
            "\u001b[2K   \u001b[90m━━━━━━━━━━━━━━━━━━━━━━━━━━━━━━━━━━━━━━━━\u001b[0m \u001b[32m644.6/644.6 kB\u001b[0m \u001b[31m7.9 MB/s\u001b[0m eta \u001b[36m0:00:00\u001b[0m\n",
            "\u001b[?25hInstalling collected packages: pyhepmc\n",
            "Successfully installed pyhepmc-2.14.0\n"
          ]
        }
      ]
    },
    {
      "cell_type": "code",
      "source": [
        "import pyhepmc\n",
        "import pandas as pd\n",
        "import numpy as np"
      ],
      "metadata": {
        "id": "a0XVbyNSeBWV"
      },
      "execution_count": null,
      "outputs": []
    },
    {
      "cell_type": "markdown",
      "source": [
        "First download and extract the MC files. This may take a few minutes."
      ],
      "metadata": {
        "id": "JQgbEjEj846g"
      }
    },
    {
      "cell_type": "markdown",
      "source": [
        "Now we will define some useful functions for processing the MC files"
      ],
      "metadata": {
        "id": "upmGJXcnfcw2"
      }
    },
    {
      "cell_type": "code",
      "source": [
        "# functions to determine first and last copy of Higgs bosons\n",
        "def isFirstCopy(particle):\n",
        "    pdgid = particle.pid\n",
        "    for parent in particle.parents:\n",
        "        if parent.pid == pdgid:\n",
        "            return False\n",
        "    return True\n",
        "\n",
        "def isLastCopy(particle):\n",
        "    pdgid = particle.pid\n",
        "    for child in particle.children:\n",
        "        if child.pid == pdgid:\n",
        "            return False\n",
        "    return True"
      ],
      "metadata": {
        "id": "A9IuUR34eG7h"
      },
      "execution_count": null,
      "outputs": []
    },
    {
      "cell_type": "code",
      "source": [
        "# define a function that reads in the hepmc files\n",
        "# the first and last copy of the Higgs bosons are stored\n",
        "# We also compute and store some kinematic variables to be plotted later\n",
        "\n",
        "def read_hepmc_particles(filename, Nevents):\n",
        "    '''\n",
        "    process hepmc file and store higgs boson 4-vectors and other variables as a pandas dataframe\n",
        "    '''\n",
        "    with pyhepmc.open(filename) as f:\n",
        "        out = pd.DataFrame(columns=[\"weight\", \"h1_4vec\", \"h2_4vec\", \"h1_firstcopy_4vec\", \"h2_firstcopy_4vec\"])\n",
        "        for i, event in enumerate(f):\n",
        "            xsec = event.cross_section.xsec()\n",
        "            if i % 1000 == 0:\n",
        "                print(f\"Processing event {i+1}\")\n",
        "            if i >= Nevents:\n",
        "                break\n",
        "            higgs_firstcopy = []\n",
        "            higgs_lastcopy = []\n",
        "            for particle in event.particles:\n",
        "                if particle.pid == 25:\n",
        "                    if isFirstCopy(particle): higgs_firstcopy.append(particle.momentum)\n",
        "                    if isLastCopy(particle): higgs_lastcopy.append(particle.momentum)\n",
        "\n",
        "            if len(higgs_firstcopy) != 2 or len(higgs_lastcopy) != 2:\n",
        "                print(f\"Warning: Event {i} does not contain 2 Higgs bosons, skipping\")\n",
        "                continue\n",
        "\n",
        "            # compute some other variables that can be used for plotting\n",
        "            hh_mass = (higgs_lastcopy[0] + higgs_lastcopy[1]).m()\n",
        "            hh_pt = (higgs_lastcopy[0] + higgs_lastcopy[1]).pt()\n",
        "            lead_pt = max(higgs_lastcopy[0].pt(), higgs_lastcopy[1].pt())\n",
        "            sublead_pt = min(higgs_lastcopy[0].pt(), higgs_lastcopy[1].pt())\n",
        "\n",
        "            # define a \"RECO\" mass by applying a 5% Gaussian smearing to hh_mass\n",
        "            hh_mass_reco = hh_mass*(1.+0.05*np.random.randn())\n",
        "\n",
        "            out = pd.concat([out, pd.DataFrame([{\"weight\": xsec, \"h1_4vec\": higgs_lastcopy[0], \"h2_4vec\": higgs_lastcopy[1],\n",
        "                              \"h1_firstcopy_4vec\": higgs_firstcopy[0], \"h2_firstcopy_4vec\": higgs_firstcopy[1],\n",
        "                              \"hh_mass\": hh_mass, \"hh_pt\": hh_pt, \"lead_pt\": lead_pt, \"sublead_pt\": sublead_pt, \"hh_mass_reco\": hh_mass_reco\n",
        "                              }])], ignore_index=True)\n",
        "\n",
        "        return out"
      ],
      "metadata": {
        "id": "3NddNH0eeCxj"
      },
      "execution_count": null,
      "outputs": []
    },
    {
      "cell_type": "code",
      "source": [
        "# this function will loop over a datarame and compute and store the ME weights\n",
        "def compute_weight(df, rw):\n",
        "    \"\"\"\n",
        "    Compute the reweighting weights for the given dataframe\n",
        "    \"\"\"\n",
        "\n",
        "    for i, row in df.iterrows():\n",
        "\n",
        "        parts = []\n",
        "\n",
        "        h1 = row[\"h1_4vec\"]\n",
        "        h2 = row[\"h2_4vec\"]\n",
        "\n",
        "        # define the particles: pdgid, E, px, py, pz\n",
        "        p1 = [25, h1.e, h1.px, h1.py, h1.pz]\n",
        "        p2 = [25, h2.e, h2.px, h2.py, h2.pz]\n",
        "\n",
        "        parts = [p1,p2]\n",
        "\n",
        "        rweights = rw.ReweightEvent(parts)\n",
        "\n",
        "        if i % 1000 == 0:\n",
        "            print(f\"Processing event {i+1}\")\n",
        "\n",
        "        # add the weights to the dataframe\n",
        "        for key in rweights:\n",
        "            df.loc[i, key] = rweights[key]\n",
        "\n",
        "    return df"
      ],
      "metadata": {
        "id": "ns8073iUgbtT"
      },
      "execution_count": null,
      "outputs": []
    },
    {
      "cell_type": "markdown",
      "source": [
        "First we process our MC to store the gen higgs information that we will need for the reweighting and some kinematic variables for plotting"
      ],
      "metadata": {
        "id": "ldaz8j5l2CLF"
      }
    },
    {
      "cell_type": "code",
      "source": [
        "df_sm = read_hepmc_particles('events_sm_6k.hepmc',5000)"
      ],
      "metadata": {
        "id": "_6_Qo0rY2CtU",
        "colab": {
          "base_uri": "https://localhost:8080/"
        },
        "outputId": "4de550eb-7618-4949-d1d6-18f9dc79351f"
      },
      "execution_count": null,
      "outputs": [
        {
          "output_type": "stream",
          "name": "stdout",
          "text": [
            "Processing event 1\n"
          ]
        },
        {
          "output_type": "stream",
          "name": "stderr",
          "text": [
            "<ipython-input-17-4a81b5cd0625>:37: FutureWarning: The behavior of DataFrame concatenation with empty or all-NA entries is deprecated. In a future version, this will no longer exclude empty or all-NA columns when determining the result dtypes. To retain the old behavior, exclude the relevant entries before the concat operation.\n",
            "  out = pd.concat([out, pd.DataFrame([{\"weight\": xsec, \"h1_4vec\": higgs_lastcopy[0], \"h2_4vec\": higgs_lastcopy[1],\n"
          ]
        },
        {
          "output_type": "stream",
          "name": "stdout",
          "text": [
            "Processing event 1001\n",
            "Processing event 2001\n",
            "Processing event 3001\n",
            "Processing event 4001\n",
            "Processing event 5001\n"
          ]
        }
      ]
    },
    {
      "cell_type": "markdown",
      "source": [
        "Now we compute the weights and add them to the dataframe"
      ],
      "metadata": {
        "id": "Yk4vQJze3jk0"
      }
    },
    {
      "cell_type": "code",
      "source": [
        "mass_widths_dict = {\n",
        "    620: [0.007422]\n",
        "}"
      ],
      "metadata": {
        "id": "OoVDQV1e3nSM"
      },
      "execution_count": null,
      "outputs": []
    },
    {
      "cell_type": "code",
      "source": [
        "rw = HHReweight(mass_widths_dict=mass_widths_dict)"
      ],
      "metadata": {
        "colab": {
          "base_uri": "https://localhost:8080/"
        },
        "id": "6uRWlpbr2FKE",
        "outputId": "989aee45-b683-40f6-a9dc-a7090c33a01b"
      },
      "execution_count": null,
      "outputs": [
        {
          "output_type": "stream",
          "name": "stdout",
          "text": [
            "INFO: Reweighting SM process\n"
          ]
        }
      ]
    },
    {
      "cell_type": "code",
      "source": [
        "df_sm = compute_weight(df_sm, rw)"
      ],
      "metadata": {
        "colab": {
          "base_uri": "https://localhost:8080/"
        },
        "id": "0mbMcTzPm-Zp",
        "outputId": "259d127f-4685-4d33-cdfd-3fd83212662e"
      },
      "execution_count": null,
      "outputs": [
        {
          "output_type": "stream",
          "name": "stdout",
          "text": [
            "Processing event 1\n",
            "Processing event 1001\n",
            "Processing event 2001\n",
            "Processing event 3001\n",
            "Processing event 4001\n"
          ]
        }
      ]
    },
    {
      "cell_type": "markdown",
      "source": [
        "Now we will make a histogram for each contribution"
      ],
      "metadata": {
        "id": "0_c-F5EkRZ4c"
      }
    },
    {
      "cell_type": "code",
      "source": [
        "def MakeHistogram(df, var, weights=[], bins=100, range=(250,1000)):\n",
        "    \"\"\"\n",
        "    Function to make a histogram of a variable var in the dataframe df\n",
        "    The product of the weights specified in weights should be used to reweight the events\n",
        "    The function returns the histogram\n",
        "    \"\"\"\n",
        "\n",
        "    # define the binning\n",
        "    # take the 95% quantiles of the variable and make 50 bins\n",
        "    bins = np.linspace(range[0], range[1], bins)\n",
        "\n",
        "    # make the histogram\n",
        "    hist, bins = np.histogram(df[var], bins=bins, weights=np.prod([df[weight] for weight in weights], axis=0))\n",
        "\n",
        "    hist_squared_weights, _ = np.histogram(df[var], bins=bins, weights=np.prod([df[weight]**2 for weight in weights], axis=0))\n",
        "    hist_errors = np.sqrt(hist_squared_weights)\n",
        "\n",
        "    return hist, hist_errors, bins"
      ],
      "metadata": {
        "id": "i5GhwP82547D"
      },
      "execution_count": null,
      "outputs": []
    },
    {
      "cell_type": "code",
      "source": [
        "weights = ['box', 'schannel_h', 'box_and_schannel_h_i',\n",
        "           'schannel_H_Mass_620_RelWidth_0p007422',\n",
        "           'box_and_schannel_H_i_Mass_620_RelWidth_0p007422',\n",
        "           'schannel_H_and_schannel_h_i_Mass_620_RelWidth_0p007422'\n",
        "           ]\n",
        "hists = [(None,None,None)]*len(weights)\n",
        "for i, weight in enumerate(weights):\n",
        "    hists[i] = MakeHistogram(df_sm, 'hh_mass_reco', weights=['weight',weight],bins=40)\n"
      ],
      "metadata": {
        "id": "G-Rc2ESI4CUU"
      },
      "execution_count": null,
      "outputs": []
    },
    {
      "cell_type": "markdown",
      "source": [
        "Now lets plot the distributions of the di-Higgs mass (with smearing)"
      ],
      "metadata": {
        "id": "sZ52MErfRfAU"
      }
    },
    {
      "cell_type": "code",
      "source": [
        "import matplotlib.pyplot as plt\n",
        "\n",
        "def MakePlots(hists=[], labels=[]):\n",
        "    \"\"\"\n",
        "    plot the histograms on the same axis\n",
        "    \"\"\"\n",
        "\n",
        "    if len(hists) != len(labels):\n",
        "        print(\"Number of histograms and labels do not match\")\n",
        "        return\n",
        "\n",
        "    fig, ax = plt.subplots()\n",
        "    for i, hist in enumerate(hists):\n",
        "         y = hist[0]\n",
        "         yerr = hist[1]\n",
        "         bin_edges = hist[2]\n",
        "         bin_centres = [(bin_edges[i]+bin_edges[i+1])/2 for i in range(len(bin_edges)-1)]\n",
        "         step_plot = ax.step(bin_edges, np.append(y, y[-1]), where='post', label=labels[i], linewidth=1.5)\n",
        "         step_color = step_plot[0].get_color()  # Extract the color used\n",
        "\n",
        "         ax.errorbar(bin_centres, y, yerr=yerr, fmt='o', markersize=3, color=step_color)\n",
        "\n",
        "    ax.legend(loc='upper center', bbox_to_anchor=(0.5, 1.3), ncol=2)\n",
        "\n",
        "    plt.show()"
      ],
      "metadata": {
        "id": "50c1mr4O7YKA"
      },
      "execution_count": null,
      "outputs": []
    },
    {
      "cell_type": "code",
      "source": [
        "MakePlots(hists=hists, labels=weights)"
      ],
      "metadata": {
        "id": "L5SZkWPH7dc5",
        "colab": {
          "base_uri": "https://localhost:8080/",
          "height": 534
        },
        "outputId": "8851f285-2774-424b-cb4e-da54542e0a01"
      },
      "execution_count": null,
      "outputs": [
        {
          "output_type": "display_data",
          "data": {
            "text/plain": [
              "<Figure size 640x480 with 1 Axes>"
            ],
            "image/png": "[encoded data removed]"
          },
          "metadata": {}
        }
      ]
    },
    {
      "cell_type": "markdown",
      "source": [
        "The distributions look generally sensible except for the resonant H->hh part.\n",
        "This is because the reference sample for this component is not very populated in phase-space region where the resonance sits (M=620 GeV, with a narrow width ~0.7%)"
      ],
      "metadata": {
        "id": "gH5W1uxTRTmv"
      }
    },
    {
      "cell_type": "markdown",
      "source": [
        "For the resonant part of the spectrum we therefore recommend to use a dedicated resonant H->hh sample for the reweighting with the same mass and width not too differerent from the target.\n",
        "\n",
        "Below we will reweight a M=620 GeV sample with 2% relative width to obtain our resonant term"
      ],
      "metadata": {
        "id": "M9t_HclWR-mq"
      }
    },
    {
      "cell_type": "markdown",
      "source": [
        "First we need to produce the dataframes and add the weights as we did for the SM di-Higgs sample"
      ],
      "metadata": {
        "id": "PXRk2GzGSa6y"
      }
    },
    {
      "cell_type": "code",
      "source": [
        "df_res = read_hepmc_particles('events_res_m620_w0p02_6k.hepmc',5000)"
      ],
      "metadata": {
        "id": "PNzwb8kNxOoM",
        "colab": {
          "base_uri": "https://localhost:8080/"
        },
        "outputId": "c00eb15b-5565-4297-b235-ec64f34879e5"
      },
      "execution_count": null,
      "outputs": [
        {
          "output_type": "stream",
          "name": "stdout",
          "text": [
            "Processing event 1\n"
          ]
        },
        {
          "output_type": "stream",
          "name": "stderr",
          "text": [
            "<ipython-input-17-4a81b5cd0625>:37: FutureWarning: The behavior of DataFrame concatenation with empty or all-NA entries is deprecated. In a future version, this will no longer exclude empty or all-NA columns when determining the result dtypes. To retain the old behavior, exclude the relevant entries before the concat operation.\n",
            "  out = pd.concat([out, pd.DataFrame([{\"weight\": xsec, \"h1_4vec\": higgs_lastcopy[0], \"h2_4vec\": higgs_lastcopy[1],\n"
          ]
        },
        {
          "output_type": "stream",
          "name": "stdout",
          "text": [
            "Processing event 1001\n",
            "Processing event 2001\n",
            "Processing event 3001\n",
            "Processing event 4001\n",
            "Processing event 5001\n"
          ]
        }
      ]
    },
    {
      "cell_type": "markdown",
      "source": [
        "For the reweighting we need to remember to set ReweightSChan to true and specify the reference mass and width"
      ],
      "metadata": {
        "id": "5vG1wuYSSlFz"
      }
    },
    {
      "cell_type": "code",
      "source": [
        "ref_mass = 620\n",
        "ref_width = 0.02\n",
        "rw = HHReweight(ReweightSChan=True,RefMassRelWidth=(ref_mass,ref_width),mass_widths_dict=mass_widths_dict)"
      ],
      "metadata": {
        "id": "0xIP62qzQVkF",
        "colab": {
          "base_uri": "https://localhost:8080/"
        },
        "outputId": "11a09f4f-90de-451f-b183-1535978bff10"
      },
      "execution_count": null,
      "outputs": [
        {
          "output_type": "stream",
          "name": "stdout",
          "text": [
            "INFO: Reweighting S-channel process with mass=620 and width=0.02\n"
          ]
        }
      ]
    },
    {
      "cell_type": "code",
      "source": [
        "df_res = compute_weight(df_res, rw)"
      ],
      "metadata": {
        "id": "MxQ1zLE5Qk1m",
        "colab": {
          "base_uri": "https://localhost:8080/"
        },
        "outputId": "fc6e5883-1933-4778-fd5c-9f01e83a714b"
      },
      "execution_count": null,
      "outputs": [
        {
          "output_type": "stream",
          "name": "stdout",
          "text": [
            "Processing event 1\n",
            "Processing event 1001\n",
            "Processing event 2001\n",
            "Processing event 3001\n",
            "Processing event 4001\n"
          ]
        }
      ]
    },
    {
      "cell_type": "code",
      "source": [
        "hists_res = MakeHistogram(df_res, 'hh_mass_reco', weights=['weight','schannel_H_Mass_620_RelWidth_0p007422'],bins=40)"
      ],
      "metadata": {
        "id": "Lp-cvb8Zann6"
      },
      "execution_count": null,
      "outputs": []
    },
    {
      "cell_type": "code",
      "source": [
        "hists_cmb = hists[:3]+[hists_res]+hists[4:]\n",
        "MakePlots(hists=hists_cmb, labels=weights)"
      ],
      "metadata": {
        "id": "q5RXGXCnbPIs",
        "colab": {
          "base_uri": "https://localhost:8080/",
          "height": 534
        },
        "outputId": "18954445-4a87-4b47-eba4-b74f9d3c0f95"
      },
      "execution_count": null,
      "outputs": [
        {
          "output_type": "display_data",
          "data": {
            "text/plain": [
              "<Figure size 640x480 with 1 Axes>"
            ],
            "image/png": "[encoded data removed]"
          },
          "metadata": {}
        }
      ]
    },
    {
      "cell_type": "markdown",
      "source": [
        "Now we have the individual histograms for all the contributions for SM-like couplings $\\kappa_i=1$\n",
        "\n",
        "We can now scale these histograms based on the model predictions\n",
        "\n",
        "We are focusing on the singlet model which has three parameters $\\tan\\beta$ $\\sin\\alpha$ and $m_{\\text{H}}$\n",
        "\n",
        "The benchmark point we will evaluate has $\\tan\\beta=1$, $\\sin\\alpha=0.16$, and $m_{\\text{H}}=620$ GeV"
      ],
      "metadata": {
        "id": "fz7IKkv9gDuW"
      }
    },
    {
      "cell_type": "markdown",
      "source": [
        "First we need compute our coupling modifiers.\n",
        "In the singlet mode these have the following functional form at LO:\n",
        "\n",
        "$\\kappa_t = \\cos{\\alpha}$\n",
        "\n",
        "$\\kappa_t^{h} = \\sin{\\alpha}$\n",
        "\n",
        "$\\kappa_{\\lambda_{hhh}} =\\cos^3{\\alpha}-\\tan\\beta\\sin^3{\\alpha}$\n",
        "\n",
        "$\\kappa_{\\lambda_{Hhh}} = \\frac{2m_{h}^2+m_{H}^2}{m_h^2}\\,\\frac{\\sin( 2 \\alpha)}{2}(\\cos{\\alpha} + \\tan\\beta\\sin{\\alpha})$"
      ],
      "metadata": {
        "id": "6Qso_w_3goE_"
      }
    },
    {
      "cell_type": "code",
      "source": [
        "sina = 0.16\n",
        "tanb = 1.0\n",
        "mH = 620.\n",
        "mh = 125.\n",
        "\n",
        "cosa = math.cos(math.asin(sina))\n",
        "\n",
        "kappa_h_t = math.cos(math.asin(sina))\n",
        "\n",
        "kappa_H_t = sina\n",
        "\n",
        "kappa_lambda_hhh = cosa**3 - tanb*sina**3\n",
        "\n",
        "kappa_lambda_Hhh = (2*mh**2 + mH**2)/mh**2 * (cosa**2*sina + tanb*sina**2*cosa)\n",
        "\n"
      ],
      "metadata": {
        "id": "0fEQJqIcguc3"
      },
      "execution_count": null,
      "outputs": []
    },
    {
      "cell_type": "markdown",
      "source": [
        "Now we can scale our individual pieces."
      ],
      "metadata": {
        "id": "R0HYaSZkF_T9"
      }
    },
    {
      "cell_type": "code",
      "source": [
        "hists_scaled = []\n",
        "\n",
        "for weight, hist in zip(weights,hists_cmb):\n",
        "    if weight == 'box':\n",
        "        sf = kappa_h_t**4\n",
        "    elif weight == 'schannel_h':\n",
        "        sf = kappa_h_t**2*kappa_lambda_hhh**2\n",
        "    elif weight == 'box_and_schannel_h_i':\n",
        "        sf = kappa_h_t**3*kappa_lambda_hhh\n",
        "    elif weight.startswith('schannel_H_Mass_'):\n",
        "        sf = kappa_H_t**2*kappa_lambda_Hhh**2\n",
        "    elif weight.startswith('box_and_schannel_H_i_Mass_'):\n",
        "        sf = kappa_h_t**2*kappa_H_t*kappa_lambda_Hhh\n",
        "    elif weight.startswith('schannel_H_and_schannel_h_i_Mass_'):\n",
        "        kappa_h_t*kappa_lambda_hhh*kappa_H_t*kappa_lambda_Hhh\n",
        "    else: sf=1.\n",
        "    hists_scaled.append((hist[0]*sf,hist[1]*sf,hist[2]))\n",
        "\n"
      ],
      "metadata": {
        "id": "xV2Xb0lZru_e"
      },
      "execution_count": null,
      "outputs": []
    },
    {
      "cell_type": "code",
      "source": [
        "MakePlots(hists=hists_scaled, labels=weights)"
      ],
      "metadata": {
        "id": "Wm-YwnGIuvO5",
        "colab": {
          "base_uri": "https://localhost:8080/",
          "height": 534
        },
        "outputId": "da162f40-39d4-4747-86b0-b5276350ac2b"
      },
      "execution_count": null,
      "outputs": [
        {
          "output_type": "display_data",
          "data": {
            "text/plain": [
              "<Figure size 640x480 with 1 Axes>"
            ],
            "image/png": "[encoded data removed]"
          },
          "metadata": {}
        }
      ]
    },
    {
      "cell_type": "markdown",
      "source": [
        "To test if the reweighting worked correctly we can compare it to a MC sample generated for the exact benchmark point\n",
        "\n",
        "We build a dataframe from the included hepmc file and then make a histogram"
      ],
      "metadata": {
        "id": "2FTQq7WMGEFh"
      }
    },
    {
      "cell_type": "code",
      "source": [
        "df_singlet = read_hepmc_particles('events_singletBM620_6k.hepmc',5000)"
      ],
      "metadata": {
        "colab": {
          "base_uri": "https://localhost:8080/"
        },
        "id": "-N-wxuwVv85Y",
        "outputId": "d8b02211-22bc-4665-8ee3-6eab374c31d4"
      },
      "execution_count": null,
      "outputs": [
        {
          "output_type": "stream",
          "name": "stdout",
          "text": [
            "Processing event 1\n"
          ]
        },
        {
          "output_type": "stream",
          "name": "stderr",
          "text": [
            "<ipython-input-17-4a81b5cd0625>:37: FutureWarning: The behavior of DataFrame concatenation with empty or all-NA entries is deprecated. In a future version, this will no longer exclude empty or all-NA columns when determining the result dtypes. To retain the old behavior, exclude the relevant entries before the concat operation.\n",
            "  out = pd.concat([out, pd.DataFrame([{\"weight\": xsec, \"h1_4vec\": higgs_lastcopy[0], \"h2_4vec\": higgs_lastcopy[1],\n"
          ]
        },
        {
          "output_type": "stream",
          "name": "stdout",
          "text": [
            "Processing event 1001\n",
            "Processing event 2001\n",
            "Processing event 3001\n",
            "Processing event 4001\n",
            "Processing event 5001\n"
          ]
        }
      ]
    },
    {
      "cell_type": "code",
      "source": [
        "hist_singlet = MakeHistogram(df_singlet, 'hh_mass_reco', weights=['weight'],bins=40)"
      ],
      "metadata": {
        "id": "ir6XOWJywL_n"
      },
      "execution_count": null,
      "outputs": []
    },
    {
      "cell_type": "markdown",
      "source": [
        "For our reweighted histograms we can then sum together the individual contributions and the compare this to the MC which was generated for this benchmark"
      ],
      "metadata": {
        "id": "hrh-n05BGVY0"
      }
    },
    {
      "cell_type": "code",
      "source": [
        "def SumHists(hists):\n",
        "    hist_sum = np.zeros(hists[0][0].shape)\n",
        "    hist_sum_sq = np.zeros(hists[0][0].shape)\n",
        "    for hist in hists:\n",
        "        hist_sum += hist[0]\n",
        "        hist_sum_sq += hist[1]**2\n",
        "    hist_sum_err = np.sqrt(hist_sum_sq)\n",
        "\n",
        "    return hist_sum, hist_sum_err, hists[0][2]"
      ],
      "metadata": {
        "id": "O7BJYEoUvJkt"
      },
      "execution_count": null,
      "outputs": []
    },
    {
      "cell_type": "code",
      "source": [
        "hist_total = SumHists(hists_scaled)\n",
        "MakePlots(hists=[hist_total,hist_singlet], labels=['reweighted','generated'])"
      ],
      "metadata": {
        "id": "6zGeYVrcvec5",
        "colab": {
          "base_uri": "https://localhost:8080/",
          "height": 534
        },
        "outputId": "1f8aa243-ec56-4f2d-db1c-b5df7bf29504"
      },
      "execution_count": null,
      "outputs": [
        {
          "output_type": "display_data",
          "data": {
            "text/plain": [
              "<Figure size 640x480 with 1 Axes>"
            ],
            "image/png": "[encoded data removed]"
          },
          "metadata": {}
        }
      ]
    },
    {
      "cell_type": "markdown",
      "source": [
        "The two histograms agree with each other within statistics so we are confident that the method works properly."
      ],
      "metadata": {
        "id": "tUWlZ7kgGgch"
      }
    }
  ]
}